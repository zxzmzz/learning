{
 "cells": [
  {
   "cell_type": "code",
   "execution_count": 1,
   "metadata": {
    "collapsed": false,
    "scrolled": true
   },
   "outputs": [],
   "source": [
    "import os"
   ]
  },
  {
   "cell_type": "code",
   "execution_count": 2,
   "metadata": {
    "collapsed": false
   },
   "outputs": [
    {
     "data": {
      "text/plain": [
       "'C:\\\\Users\\\\user\\\\Documents'"
      ]
     },
     "execution_count": 2,
     "metadata": {},
     "output_type": "execute_result"
    }
   ],
   "source": [
    "os.getcwd()"
   ]
  },
  {
   "cell_type": "code",
   "execution_count": 3,
   "metadata": {
    "collapsed": false
   },
   "outputs": [],
   "source": [
    "os.chdir('F:/迅雷下载')"
   ]
  },
  {
   "cell_type": "code",
   "execution_count": 4,
   "metadata": {
    "collapsed": false
   },
   "outputs": [
    {
     "data": {
      "text/plain": [
       "'F:\\\\迅雷下载'"
      ]
     },
     "execution_count": 4,
     "metadata": {},
     "output_type": "execute_result"
    }
   ],
   "source": [
    "os.getcwd()"
   ]
  },
  {
   "cell_type": "code",
   "execution_count": 20,
   "metadata": {
    "collapsed": true
   },
   "outputs": [],
   "source": [
    "data=open('sketch.txt')"
   ]
  },
  {
   "cell_type": "code",
   "execution_count": 18,
   "metadata": {
    "collapsed": false
   },
   "outputs": [
    {
     "name": "stdout",
     "output_type": "stream",
     "text": [
      "Man said: Is this the right room for an argument?\n",
      "Other Man said: I've told you once.\n",
      "Man said: No you haven't!\n",
      "Other Man said: Yes I have.\n",
      "Man said: When?\n",
      "Other Man said: Just now.\n",
      "Man said: No you didn't!\n",
      "Other Man said: Yes I did!\n",
      "Man said: You didn't!\n",
      "Other Man said: I'm telling you, I did!\n",
      "Man said: You did not!\n",
      "Other Man said: Oh I'm sorry, is this a five minute argument, or the full half hour?\n",
      "Man said: Ah! (taking out his wallet and paying) Just the five minutes.\n",
      "Other Man said: Just the five minutes. Thank you.\n",
      "Other Man said: Anyway, I did.\n",
      "Man said: You most certainly did not!\n",
      "Other Man said: Now let's get one thing quite clear: I most definitely told you!\n",
      "Man said: Oh no you didn't!\n",
      "Other Man said: Oh yes I did!\n",
      "Man said: Oh no you didn't!\n",
      "Other Man said: Oh yes I did!\n",
      "Man said: Oh look, this isn't an argument!\n"
     ]
    },
    {
     "ename": "ValueError",
     "evalue": "not enough values to unpack (expected 2, got 1)",
     "output_type": "error",
     "traceback": [
      "\u001b[0;31m---------------------------------------------------------------------------\u001b[0m",
      "\u001b[0;31mValueError\u001b[0m                                Traceback (most recent call last)",
      "\u001b[0;32m<ipython-input-18-4d58de12607b>\u001b[0m in \u001b[0;36m<module>\u001b[0;34m()\u001b[0m\n\u001b[1;32m      1\u001b[0m \u001b[1;32mfor\u001b[0m \u001b[0meach_line\u001b[0m \u001b[1;32min\u001b[0m \u001b[0mdata\u001b[0m\u001b[1;33m:\u001b[0m\u001b[1;33m\u001b[0m\u001b[0m\n\u001b[0;32m----> 2\u001b[0;31m     \u001b[1;33m(\u001b[0m\u001b[0mrole\u001b[0m\u001b[1;33m,\u001b[0m\u001b[0mline_spoken\u001b[0m\u001b[1;33m)\u001b[0m\u001b[1;33m=\u001b[0m\u001b[0meach_line\u001b[0m\u001b[1;33m.\u001b[0m\u001b[0msplit\u001b[0m\u001b[1;33m(\u001b[0m\u001b[1;34m':'\u001b[0m\u001b[1;33m,\u001b[0m\u001b[1;36m1\u001b[0m\u001b[1;33m)\u001b[0m\u001b[1;33m\u001b[0m\u001b[0m\n\u001b[0m\u001b[1;32m      3\u001b[0m     \u001b[0mprint\u001b[0m\u001b[1;33m(\u001b[0m\u001b[0mrole\u001b[0m\u001b[1;33m,\u001b[0m\u001b[0mend\u001b[0m\u001b[1;33m=\u001b[0m\u001b[1;34m''\u001b[0m\u001b[1;33m)\u001b[0m\u001b[1;33m\u001b[0m\u001b[0m\n\u001b[1;32m      4\u001b[0m     \u001b[0mprint\u001b[0m\u001b[1;33m(\u001b[0m\u001b[1;34m' said:'\u001b[0m\u001b[1;33m,\u001b[0m\u001b[0mend\u001b[0m\u001b[1;33m=\u001b[0m\u001b[1;34m''\u001b[0m\u001b[1;33m)\u001b[0m\u001b[1;33m\u001b[0m\u001b[0m\n\u001b[1;32m      5\u001b[0m     \u001b[0mprint\u001b[0m\u001b[1;33m(\u001b[0m\u001b[0mline_spoken\u001b[0m\u001b[1;33m,\u001b[0m\u001b[0mend\u001b[0m\u001b[1;33m=\u001b[0m\u001b[1;34m''\u001b[0m\u001b[1;33m)\u001b[0m\u001b[1;33m\u001b[0m\u001b[0m\n",
      "\u001b[0;31mValueError\u001b[0m: not enough values to unpack (expected 2, got 1)"
     ]
    }
   ],
   "source": [
    "for each_line in data:\n",
    "    (role,line_spoken)=each_line.split(':',1)\n",
    "    print(role,end='')\n",
    "    print(' said:',end='')\n",
    "    print(line_spoken,end='')"
   ]
  },
  {
   "cell_type": "code",
   "execution_count": 15,
   "metadata": {
    "collapsed": false
   },
   "outputs": [
    {
     "name": "stdout",
     "output_type": "stream",
     "text": [
      "Help on built-in function split:\n",
      "\n",
      "split(...) method of builtins.str instance\n",
      "    S.split(sep=None, maxsplit=-1) -> list of strings\n",
      "    \n",
      "    Return a list of the words in S, using sep as the\n",
      "    delimiter string.  If maxsplit is given, at most maxsplit\n",
      "    splits are done. If sep is not specified or is None, any\n",
      "    whitespace string is a separator and empty strings are\n",
      "    removed from the result.\n",
      "\n"
     ]
    }
   ],
   "source": [
    "help(each_line.split)"
   ]
  },
  {
   "cell_type": "code",
   "execution_count": 22,
   "metadata": {
    "collapsed": false
   },
   "outputs": [
    {
     "name": "stdout",
     "output_type": "stream",
     "text": [
      "Man said: Is this the right room for an argument?\n",
      "Other Man said: I've told you once.\n",
      "Man said: No you haven't!\n",
      "Other Man said: Yes I have.\n",
      "Man said: When?\n",
      "Other Man said: Just now.\n",
      "Man said: No you didn't!\n",
      "Other Man said: Yes I did!\n",
      "Man said: You didn't!\n",
      "Other Man said: I'm telling you, I did!\n",
      "Man said: You did not!\n",
      "Other Man said: Oh I'm sorry, is this a five minute argument, or the full half hour?\n",
      "Man said: Ah! (taking out his wallet and paying) Just the five minutes.\n",
      "Other Man said: Just the five minutes. Thank you.\n",
      "Other Man said: Anyway, I did.\n",
      "Man said: You most certainly did not!\n",
      "Other Man said: Now let's get one thing quite clear: I most definitely told you!\n",
      "Man said: Oh no you didn't!\n",
      "Other Man said: Oh yes I did!\n",
      "Man said: Oh no you didn't!\n",
      "Other Man said: Oh yes I did!\n",
      "Man said: Oh look, this isn't an argument!\n",
      "(pause)\n",
      "Other Man said: Yes it is!\n",
      "Man said: No it isn't!\n",
      "(pause)\n",
      "Man said: It's just contradiction!\n",
      "Other Man said: No it isn't!\n",
      "Man said: It IS!\n",
      "Other Man said: It is NOT!\n",
      "Man said: You just contradicted me!\n",
      "Other Man said: No I didn't!\n",
      "Man said: You DID!\n",
      "Other Man said: No no no!\n",
      "Man said: You did just then!\n",
      "Other Man said: Nonsense!\n",
      "Man said: (exasperated) Oh, this is futile!!\n",
      "(pause)\n",
      "Other Man said: No it isn't!\n",
      "Man said: Yes it is!\n"
     ]
    }
   ],
   "source": [
    "data=open('sketch.txt')\n",
    "for each_line in data:\n",
    "    if not each_line.find(':')== -1:\n",
    "        (role,line_spoken)=each_line.split(':',1)\n",
    "        print(role,end='')\n",
    "        print(' said:',end='')\n",
    "        print(line_spoken,end='')\n",
    "    else:\n",
    "        print(each_line,end='')"
   ]
  },
  {
   "cell_type": "code",
   "execution_count": 11,
   "metadata": {
    "collapsed": false
   },
   "outputs": [
    {
     "data": {
      "text/plain": [
       "8"
      ]
     },
     "execution_count": 11,
     "metadata": {},
     "output_type": "execute_result"
    }
   ],
   "source": []
  },
  {
   "cell_type": "code",
   "execution_count": 22,
   "metadata": {
    "collapsed": false
   },
   "outputs": [
    {
     "name": "stdout",
     "output_type": "stream",
     "text": [
      "Man said: Is this the right room for an argument?\n",
      "Other Man said: I've told you once.\n",
      "Man said: No you haven't!\n",
      "Other Man said: Yes I have.\n",
      "Man said: When?\n",
      "Other Man said: Just now.\n",
      "Man said: No you didn't!\n",
      "Other Man said: Yes I did!\n",
      "Man said: You didn't!\n",
      "Other Man said: I'm telling you, I did!\n",
      "Man said: You did not!\n",
      "Other Man said: Oh I'm sorry, is this a five minute argument, or the full half hour?\n",
      "Man said: Ah! (taking out his wallet and paying) Just the five minutes.\n",
      "Other Man said: Just the five minutes. Thank you.\n",
      "Other Man said: Anyway, I did.\n",
      "Man said: You most certainly did not!\n",
      "Other Man said: Now let's get one thing quite clear: I most definitely told you!\n",
      "Man said: Oh no you didn't!\n",
      "Other Man said: Oh yes I did!\n",
      "Man said: Oh no you didn't!\n",
      "Other Man said: Oh yes I did!\n",
      "Man said: Oh look, this isn't an argument!\n",
      "(pause)\n",
      "Other Man said: Yes it is!\n",
      "Man said: No it isn't!\n",
      "(pause)\n",
      "Man said: It's just contradiction!\n",
      "Other Man said: No it isn't!\n",
      "Man said: It IS!\n",
      "Other Man said: It is NOT!\n",
      "Man said: You just contradicted me!\n",
      "Other Man said: No I didn't!\n",
      "Man said: You DID!\n",
      "Other Man said: No no no!\n",
      "Man said: You did just then!\n",
      "Other Man said: Nonsense!\n",
      "Man said: (exasperated) Oh, this is futile!!\n",
      "(pause)\n",
      "Other Man said: No it isn't!\n",
      "Man said: Yes it is!\n"
     ]
    }
   ],
   "source": [
    "data=open('sketch.txt')\n",
    "for each_line in data:\n",
    "    if not each_line.find(':')== -1:\n",
    "        (role,line_spoken)=each_line.split(':',1)\n",
    "        print(role,end='')\n",
    "        print(' said:',end='')\n",
    "        print(line_spoken,end='')\n",
    "    else:\n",
    "        print(each_line,end='')"
   ]
  },
  {
   "cell_type": "code",
   "execution_count": 26,
   "metadata": {
    "collapsed": false
   },
   "outputs": [
    {
     "name": "stdout",
     "output_type": "stream",
     "text": [
      "Man said: Is this the right room for an argument?\n",
      "Other Man said: I've told you once.\n",
      "Man said: No you haven't!\n",
      "Other Man said: Yes I have.\n",
      "Man said: When?\n",
      "Other Man said: Just now.\n",
      "Man said: No you didn't!\n",
      "Other Man said: Yes I did!\n",
      "Man said: You didn't!\n",
      "Other Man said: I'm telling you, I did!\n",
      "Man said: You did not!\n",
      "Other Man said: Oh I'm sorry, is this a five minute argument, or the full half hour?\n",
      "Man said: Ah! (taking out his wallet and paying) Just the five minutes.\n",
      "Other Man said: Just the five minutes. Thank you.\n",
      "Other Man said: Anyway, I did.\n",
      "Man said: You most certainly did not!\n",
      "Other Man said: Now let's get one thing quite clear: I most definitely told you!\n",
      "Man said: Oh no you didn't!\n",
      "Other Man said: Oh yes I did!\n",
      "Man said: Oh no you didn't!\n",
      "Other Man said: Oh yes I did!\n",
      "Man said: Oh look, this isn't an argument!\n",
      "Other Man said: Yes it is!\n",
      "Man said: No it isn't!\n",
      "Man said: It's just contradiction!\n",
      "Other Man said: No it isn't!\n",
      "Man said: It IS!\n",
      "Other Man said: It is NOT!\n",
      "Man said: You just contradicted me!\n",
      "Other Man said: No I didn't!\n",
      "Man said: You DID!\n",
      "Other Man said: No no no!\n",
      "Man said: You did just then!\n",
      "Other Man said: Nonsense!\n",
      "Man said: (exasperated) Oh, this is futile!!\n",
      "Other Man said: No it isn't!\n",
      "Man said: Yes it is!\n"
     ]
    }
   ],
   "source": [
    "data=open('sketch.txt')\n",
    "for each_line in data:\n",
    "    try:\n",
    "        (role,line_spoken)=each_line.split(':',1)\n",
    "        print(role,end='')\n",
    "        print(' said:',end='')\n",
    "        print(line_spoken,end='')\n",
    "    except ValueError:\n",
    "        pass\n",
    "data.close()"
   ]
  },
  {
   "cell_type": "code",
   "execution_count": 27,
   "metadata": {
    "collapsed": false
   },
   "outputs": [
    {
     "name": "stdout",
     "output_type": "stream",
     "text": [
      "Man said: Is this the right room for an argument?\n",
      "Other Man said: I've told you once.\n",
      "Man said: No you haven't!\n",
      "Other Man said: Yes I have.\n",
      "Man said: When?\n",
      "Other Man said: Just now.\n",
      "Man said: No you didn't!\n",
      "Other Man said: Yes I did!\n",
      "Man said: You didn't!\n",
      "Other Man said: I'm telling you, I did!\n",
      "Man said: You did not!\n",
      "Other Man said: Oh I'm sorry, is this a five minute argument, or the full half hour?\n",
      "Man said: Ah! (taking out his wallet and paying) Just the five minutes.\n",
      "Other Man said: Just the five minutes. Thank you.\n",
      "Other Man said: Anyway, I did.\n",
      "Man said: You most certainly did not!\n",
      "Other Man said: Now let's get one thing quite clear: I most definitely told you!\n",
      "Man said: Oh no you didn't!\n",
      "Other Man said: Oh yes I did!\n",
      "Man said: Oh no you didn't!\n",
      "Other Man said: Oh yes I did!\n",
      "Man said: Oh look, this isn't an argument!\n",
      "Other Man said: Yes it is!\n",
      "Man said: No it isn't!\n",
      "Man said: It's just contradiction!\n",
      "Other Man said: No it isn't!\n",
      "Man said: It IS!\n",
      "Other Man said: It is NOT!\n",
      "Man said: You just contradicted me!\n",
      "Other Man said: No I didn't!\n",
      "Man said: You DID!\n",
      "Other Man said: No no no!\n",
      "Man said: You did just then!\n",
      "Other Man said: Nonsense!\n",
      "Man said: (exasperated) Oh, this is futile!!\n",
      "Other Man said: No it isn't!\n",
      "Man said: Yes it is!\n"
     ]
    }
   ],
   "source": [
    "try:\n",
    "    data=open('sketch.txt')\n",
    "    for each_line in data:\n",
    "        try:\n",
    "            (role,line_spoken)=each_line.split(':',1)\n",
    "            print(role,end='')\n",
    "            print(' said:',end='')\n",
    "            print(line_spoken,end='')\n",
    "        except ValueError:\n",
    "            pass\n",
    "    data.close()\n",
    "except IOError:\n",
    "    print('The data file is missing!')"
   ]
  },
  {
   "cell_type": "code",
   "execution_count": 1,
   "metadata": {
    "collapsed": false
   },
   "outputs": [
    {
     "name": "stdout",
     "output_type": "stream",
     "text": [
      "接下来是第四章了\n"
     ]
    }
   ],
   "source": [
    "print('接下来是第四章了')"
   ]
  },
  {
   "cell_type": "code",
   "execution_count": 16,
   "metadata": {
    "collapsed": false
   },
   "outputs": [
    {
     "name": "stdout",
     "output_type": "stream",
     "text": [
      "['Is this the right room for an argument?', \"No you haven't!\", 'When?', \"No you didn't!\", \"You didn't!\", 'You did not!', 'Ah! (taking out his wallet and paying) Just the five minutes.', 'You most certainly did not!', \"Oh no you didn't!\", \"Oh no you didn't!\", \"Oh look, this isn't an argument!\", \"No it isn't!\", \"It's just contradiction!\", 'It IS!', 'You just contradicted me!', 'You DID!', 'You did just then!', '(exasperated) Oh, this is futile!!', 'Yes it is!']\n",
      "[\"I've told you once.\", 'Yes I have.', 'Just now.', 'Yes I did!', \"I'm telling you, I did!\", \"Oh I'm sorry, is this a five minute argument, or the full half hour?\", 'Just the five minutes. Thank you.', 'Anyway, I did.', \"Now let's get one thing quite clear: I most definitely told you!\", 'Oh yes I did!', 'Oh yes I did!', 'Yes it is!', \"No it isn't!\", 'It is NOT!', \"No I didn't!\", 'No no no!', 'Nonsense!', \"No it isn't!\"]\n"
     ]
    }
   ],
   "source": [
    "import os\n",
    "os.chdir('F:\\迅雷下载\\chapter3')\n",
    "man=[]\n",
    "other=[]\n",
    "try:\n",
    "    data=open('sketch.txt')\n",
    "    for each_line in data:\n",
    "        try:\n",
    "            (role,line_spoken)=each_line.split(':',1)\n",
    "            line_spoken=line_spoken.strip()\n",
    "            if role=='Man':\n",
    "                man.append(line_spoken)\n",
    "            elif role =='Other Man':\n",
    "                other.append(line_spoken)\n",
    "        except ValueError:\n",
    "            pass\n",
    "    data.close()\n",
    "except IOError:\n",
    "    print('The data file is missing!')\n",
    "print(man)\n",
    "print(other)"
   ]
  },
  {
   "cell_type": "code",
   "execution_count": 9,
   "metadata": {
    "collapsed": false
   },
   "outputs": [],
   "source": [
    "out=open('data.txt','w')"
   ]
  },
  {
   "cell_type": "code",
   "execution_count": 10,
   "metadata": {
    "collapsed": true
   },
   "outputs": [],
   "source": [
    "print('Norwegian Blues stun easily.',file=out)"
   ]
  },
  {
   "cell_type": "code",
   "execution_count": 11,
   "metadata": {
    "collapsed": true
   },
   "outputs": [],
   "source": [
    "out.close()"
   ]
  },
  {
   "cell_type": "code",
   "execution_count": 14,
   "metadata": {
    "collapsed": false
   },
   "outputs": [
    {
     "name": "stdout",
     "output_type": "stream",
     "text": [
      "Norwegian Blues stun easily.\n",
      "\n"
     ]
    }
   ],
   "source": [
    "data1=open('data.txt')\n",
    "for each in data1:\n",
    "    print(each)"
   ]
  },
  {
   "cell_type": "code",
   "execution_count": 18,
   "metadata": {
    "collapsed": true
   },
   "outputs": [],
   "source": [
    "import os\n",
    "os.chdir('F:\\迅雷下载\\chapter3')\n",
    "man=[]\n",
    "other=[]\n",
    "try:\n",
    "    data=open('sketch.txt')\n",
    "    for each_line in data:\n",
    "        try:\n",
    "            (role,line_spoken)=each_line.split(':',1)\n",
    "            line_spoken=line_spoken.strip()\n",
    "            if role=='Man':\n",
    "                man.append(line_spoken)\n",
    "            elif role =='Other Man':\n",
    "                other.append(line_spoken)\n",
    "        except ValueError:\n",
    "            pass\n",
    "    data.close()\n",
    "except IOError:\n",
    "    print('The data file is missing!')\n",
    "try:\n",
    "    man_file=open('man_data.txt','w')\n",
    "    other_file=open('other_data.txt','w')\n",
    "    print(man,file=man_file)\n",
    "    print(other,file=other_file)\n",
    "    man_file.close()\n",
    "    other_file.close()\n",
    "except IOError:\n",
    "    print('File error')"
   ]
  },
  {
   "cell_type": "code",
   "execution_count": 19,
   "metadata": {
    "collapsed": true
   },
   "outputs": [],
   "source": [
    "import os\n",
    "os.chdir('F:\\迅雷下载\\chapter3')\n",
    "man=[]\n",
    "other=[]\n",
    "try:\n",
    "    data=open('sketch.txt')\n",
    "    for each_line in data:\n",
    "        try:\n",
    "            (role,line_spoken)=each_line.split(':',1)\n",
    "            line_spoken=line_spoken.strip()\n",
    "            if role=='Man':\n",
    "                man.append(line_spoken)\n",
    "            elif role =='Other Man':\n",
    "                other.append(line_spoken)\n",
    "        except ValueError:\n",
    "            pass\n",
    "    data.close()\n",
    "except IOError:\n",
    "    print('The data file is missing!')\n",
    "try:\n",
    "    man_file=open('man_data.txt','w')\n",
    "    other_file=open('other_data.txt','w')\n",
    "    print(man,file=man_file)\n",
    "    print(other,file=other_file)\n",
    "except IOError:\n",
    "    print('File error')\n",
    "finally:\n",
    "    man_file.close()\n",
    "    other_file.close()"
   ]
  },
  {
   "cell_type": "code",
   "execution_count": 1,
   "metadata": {
    "collapsed": false
   },
   "outputs": [
    {
     "ename": "SyntaxError",
     "evalue": "unexpected EOF while parsing (<ipython-input-1-b287ab2c5b68>, line 2)",
     "output_type": "error",
     "traceback": [
      "\u001b[0;36m  File \u001b[0;32m\"<ipython-input-1-b287ab2c5b68>\"\u001b[0;36m, line \u001b[0;32m2\u001b[0m\n\u001b[0;31m    data=open('missing.txt')\u001b[0m\n\u001b[0m                            ^\u001b[0m\n\u001b[0;31mSyntaxError\u001b[0m\u001b[0;31m:\u001b[0m unexpected EOF while parsing\n"
     ]
    }
   ],
   "source": []
  },
  {
   "cell_type": "code",
   "execution_count": 13,
   "metadata": {
    "collapsed": false
   },
   "outputs": [
    {
     "name": "stdout",
     "output_type": "stream",
     "text": [
      "['Is this the right room for an argument?', \"No you haven't!\", 'When?', \"No you didn't!\", \"You didn't!\", 'You did not!', 'Ah! (taking out his wallet and paying) Just the five minutes.', 'You most certainly did not!', \"Oh no you didn't!\", \"Oh no you didn't!\", \"Oh look, this isn't an argument!\", \"No it isn't!\", \"It's just contradiction!\", 'It IS!', 'You just contradicted me!', 'You DID!', 'You did just then!', '(exasperated) Oh, this is futile!!', 'Yes it is!']\n",
      "[\"I've told you once.\", 'Yes I have.', 'Just now.', 'Yes I did!', \"I'm telling you, I did!\", \"Oh I'm sorry, is this a five minute argument, or the full half hour?\", 'Just the five minutes. Thank you.', 'Anyway, I did.', \"Now let's get one thing quite clear: I most definitely told you!\", 'Oh yes I did!', 'Oh yes I did!', 'Yes it is!', \"No it isn't!\", 'It is NOT!', \"No I didn't!\", 'No no no!', 'Nonsense!', \"No it isn't!\"]\n"
     ]
    }
   ],
   "source": [
    "import os\n",
    "os.chdir('F:\\迅雷下载\\chapter3')\n",
    "man=[]\n",
    "other=[]\n",
    "try:\n",
    "    data=open('sketch.txt')\n",
    "    for each_line in data:\n",
    "        try:\n",
    "            (role,line_spoken)=each_line.split(':',1)\n",
    "            line_spoken=line_spoken.strip()\n",
    "            if role=='Man':\n",
    "                man.append(line_spoken)\n",
    "            elif role =='Other Man':\n",
    "                other.append(line_spoken)\n",
    "        except ValueError:\n",
    "            pass\n",
    "    data.close()\n",
    "except IOError:\n",
    "    print('The data file is missing!')\n",
    "print(man)\n",
    "print(other)"
   ]
  },
  {
   "cell_type": "code",
   "execution_count": 8,
   "metadata": {
    "collapsed": true
   },
   "outputs": [],
   "source": [
    "try:\n",
    "    with open('man_data.txt','w')as man_file,open('other_data.txt','w') as other_file:\n",
    "        print(man,file=man_file)\n",
    "        print(other,file=other_file)\n",
    "except IOError as err:\n",
    "    print('File error: '+ str(errr))"
   ]
  },
  {
   "cell_type": "code",
   "execution_count": 9,
   "metadata": {
    "collapsed": false
   },
   "outputs": [
    {
     "name": "stdout",
     "output_type": "stream",
     "text": [
      "['Is this the right room for an argument?', \"No you haven't!\", 'When?', \"No you didn't!\", \"You didn't!\", 'You did not!', 'Ah! (taking out his wallet and paying) Just the five minutes.', 'You most certainly did not!', \"Oh no you didn't!\", \"Oh no you didn't!\", \"Oh look, this isn't an argument!\", \"No it isn't!\", \"It's just contradiction!\", 'It IS!', 'You just contradicted me!', 'You DID!', 'You did just then!', '(exasperated) Oh, this is futile!!', 'Yes it is!']\n",
      "\n"
     ]
    }
   ],
   "source": [
    "with open('man_data.txt')as mdf:\n",
    "    print(mdf.readline())"
   ]
  },
  {
   "cell_type": "code",
   "execution_count": 12,
   "metadata": {
    "collapsed": false
   },
   "outputs": [],
   "source": [
    "def print_lol (the_list,indent=False,level=0,fh=sys.stdout):\n",
    "    import sys\n",
    "    for each_item in the_list:\n",
    "        if isinstance(each_item,list):\n",
    "            print_lol(each_item,indent,level+1,fh)\n",
    "        else:\n",
    "            if indent:\n",
    "                for tab_stop in range(level):\n",
    "                    print('\\t','end=',file=fh)\n",
    "            print(each_item,file=fh)"
   ]
  },
  {
   "cell_type": "code",
   "execution_count": 15,
   "metadata": {
    "collapsed": false
   },
   "outputs": [],
   "source": [
    "try:\n",
    "    with open('man_data.txt','w')as man_file,open('other_data.txt','w') as other_file:\n",
    "        print_lol(man,fh=man_file)\n",
    "        print_lol(other,fh=other_file)\n",
    "except IOError as err:\n",
    "    print('File error: '+ str(errr))"
   ]
  },
  {
   "cell_type": "code",
   "execution_count": 17,
   "metadata": {
    "collapsed": false
   },
   "outputs": [
    {
     "name": "stdout",
     "output_type": "stream",
     "text": [
      "Is this the right room for an argument?\n",
      "\n"
     ]
    }
   ],
   "source": []
  },
  {
   "cell_type": "code",
   "execution_count": null,
   "metadata": {
    "collapsed": true
   },
   "outputs": [],
   "source": []
  }
 ],
 "metadata": {
  "anaconda-cloud": {},
  "kernelspec": {
   "display_name": "Python [default]",
   "language": "python",
   "name": "python3"
  },
  "language_info": {
   "codemirror_mode": {
    "name": "ipython",
    "version": 3
   },
   "file_extension": ".py",
   "mimetype": "text/x-python",
   "name": "python",
   "nbconvert_exporter": "python",
   "pygments_lexer": "ipython3",
   "version": "3.5.2"
  }
 },
 "nbformat": 4,
 "nbformat_minor": 1
}
